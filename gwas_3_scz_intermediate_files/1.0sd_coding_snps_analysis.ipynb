{
 "cells": [
  {
   "cell_type": "code",
   "execution_count": 4,
   "metadata": {},
   "outputs": [
    {
     "data": {
      "text/html": [
       "<div>\n",
       "<style scoped>\n",
       "    .dataframe tbody tr th:only-of-type {\n",
       "        vertical-align: middle;\n",
       "    }\n",
       "\n",
       "    .dataframe tbody tr th {\n",
       "        vertical-align: top;\n",
       "    }\n",
       "\n",
       "    .dataframe thead th {\n",
       "        text-align: right;\n",
       "    }\n",
       "</style>\n",
       "<table border=\"1\" class=\"dataframe\">\n",
       "  <thead>\n",
       "    <tr style=\"text-align: right;\">\n",
       "      <th></th>\n",
       "      <th>Unnamed: 0</th>\n",
       "      <th>chr</th>\n",
       "      <th>pos</th>\n",
       "      <th>snp</th>\n",
       "      <th>P</th>\n",
       "      <th>left_border</th>\n",
       "      <th>right_border</th>\n",
       "    </tr>\n",
       "  </thead>\n",
       "  <tbody>\n",
       "    <tr>\n",
       "      <th>0</th>\n",
       "      <td>0</td>\n",
       "      <td>1</td>\n",
       "      <td>2369498</td>\n",
       "      <td>rs4592207</td>\n",
       "      <td>1.297000e-08</td>\n",
       "      <td>2370683</td>\n",
       "      <td>2399614</td>\n",
       "    </tr>\n",
       "    <tr>\n",
       "      <th>1</th>\n",
       "      <td>1</td>\n",
       "      <td>1</td>\n",
       "      <td>8424984</td>\n",
       "      <td>rs34269918</td>\n",
       "      <td>2.025000e-09</td>\n",
       "      <td>8392592</td>\n",
       "      <td>8770538</td>\n",
       "    </tr>\n",
       "    <tr>\n",
       "      <th>2</th>\n",
       "      <td>2</td>\n",
       "      <td>1</td>\n",
       "      <td>30433951</td>\n",
       "      <td>rs1498232</td>\n",
       "      <td>1.284000e-09</td>\n",
       "      <td>30412503</td>\n",
       "      <td>30437118</td>\n",
       "    </tr>\n",
       "    <tr>\n",
       "      <th>3</th>\n",
       "      <td>3</td>\n",
       "      <td>1</td>\n",
       "      <td>44079411</td>\n",
       "      <td>rs603542</td>\n",
       "      <td>1.777000e-09</td>\n",
       "      <td>44029353</td>\n",
       "      <td>44137257</td>\n",
       "    </tr>\n",
       "    <tr>\n",
       "      <th>4</th>\n",
       "      <td>4</td>\n",
       "      <td>1</td>\n",
       "      <td>73752210</td>\n",
       "      <td>rs72504650</td>\n",
       "      <td>6.250000e-10</td>\n",
       "      <td>73366368</td>\n",
       "      <td>74033340</td>\n",
       "    </tr>\n",
       "  </tbody>\n",
       "</table>\n",
       "</div>"
      ],
      "text/plain": [
       "   Unnamed: 0  chr       pos         snp             P  left_border  \\\n",
       "0           0    1   2369498   rs4592207  1.297000e-08      2370683   \n",
       "1           1    1   8424984  rs34269918  2.025000e-09      8392592   \n",
       "2           2    1  30433951   rs1498232  1.284000e-09     30412503   \n",
       "3           3    1  44079411    rs603542  1.777000e-09     44029353   \n",
       "4           4    1  73752210  rs72504650  6.250000e-10     73366368   \n",
       "\n",
       "   right_border  \n",
       "0       2399614  \n",
       "1       8770538  \n",
       "2      30437118  \n",
       "3      44137257  \n",
       "4      74033340  "
      ]
     },
     "execution_count": 4,
     "metadata": {},
     "output_type": "execute_result"
    }
   ],
   "source": [
    "import pandas as pd\n",
    "\n",
    "ground_truth = pd.read_csv('./gwas_3_scz_result_files/filtered_snps_sd=0.0.csv')\n",
    "\n",
    "result = pd.read_csv('./gwas_3_scz_result_files/filtered_snps_sd=1.0.csv')\n",
    "\n",
    "result.head()"
   ]
  },
  {
   "cell_type": "code",
   "execution_count": 5,
   "metadata": {},
   "outputs": [],
   "source": [
    "coding_snps_df = pd.read_csv(\"gwas_3_scz_intermediate_files/coding_snps.csv\")\n",
    "coding_region_set = set(coding_snps_df['snp'])\n",
    "\n",
    "result['coding'] = result['snp'].isin(coding_region_set)\n",
    "ground_truth['coding'] = ground_truth['snp'].isin(coding_region_set)"
   ]
  },
  {
   "cell_type": "code",
   "execution_count": 13,
   "metadata": {},
   "outputs": [
    {
     "name": "stdout",
     "output_type": "stream",
     "text": [
      "14551\n",
      "15866\n",
      "12754\n"
     ]
    }
   ],
   "source": [
    "import pandas as pd \n",
    "result_05 = pd.read_csv('../gwas_3_scz_result_files/filtered_snps_sd=0.5.csv')\n",
    "\n",
    "first_file_df = pd.read_csv('../gwas_3_scz_matching/result_SAD0.csv', low_memory = False)\n",
    "first_file_df[\"P\"] = pd.to_numeric(first_file_df[\"P\"], errors=\"coerce\")\n",
    "print(len(first_file_df[ (first_file_df[\"P\"]<1.20e-7 ) & (first_file_df['snp'].notna())&(first_file_df['P'].notna())]))\n",
    "print(len(first_file_df[ (first_file_df[\"P\"]<1.90e-7) & (first_file_df['snp'].notna()) & (first_file_df['P'].notna())]))\n",
    "print(len(first_file_df[ (first_file_df[\"P\"]<5e-8) & (first_file_df['snp'].notna()) & (first_file_df['P'].notna())]))"
   ]
  },
  {
   "cell_type": "code",
   "execution_count": 12,
   "metadata": {},
   "outputs": [],
   "source": [
    "ground_truth.to_csv('./gwas_3_scz_intermediate_files/ground_truth_with_coding_values')\n"
   ]
  }
 ],
 "metadata": {
  "kernelspec": {
   "display_name": "Python 3",
   "language": "python",
   "name": "python3"
  },
  "language_info": {
   "codemirror_mode": {
    "name": "ipython",
    "version": 3
   },
   "file_extension": ".py",
   "mimetype": "text/x-python",
   "name": "python",
   "nbconvert_exporter": "python",
   "pygments_lexer": "ipython3",
   "version": "3.11.5"
  }
 },
 "nbformat": 4,
 "nbformat_minor": 2
}
