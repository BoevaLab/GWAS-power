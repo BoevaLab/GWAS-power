{
 "cells": [
  {
   "cell_type": "code",
   "execution_count": 8,
   "metadata": {},
   "outputs": [
    {
     "data": {
      "text/plain": [
       "Index(['Chromosome', 'Marker Name', 'Postion (bp)', 'A1', 'A2',\n",
       "       'Allele Frequency in meta-analysis',\n",
       "       'Region (bp) of clumped variants (P < 10-4) in linkage disequilibrium (r2 > 0.1) with lead variant',\n",
       "       'Odds Ratio', 'Lower 95% Confidence Interval',\n",
       "       'Upper 95% Confidence Interval', 'Log(Odds Ratio)',\n",
       "       'Standard error of the Log(Odds Ratio)', 'P-value', 'Odds Ratio.1',\n",
       "       'Lower 95% Confidence Interval.1', 'Upper 95% Confidence Interval.1',\n",
       "       'Log(Odds Ratio).1', 'Standard error of the Log(Odds Ratio).1',\n",
       "       'P-value.1', 'Odds Ratio.2', 'Lower 95% Confidence Interval.2',\n",
       "       'Upper 95% Confidence Interval.2', 'Log(Odds Ratio).2',\n",
       "       'Standard error of the Log(Odds Ratio).2', 'P-value.2', 'Odds Ratio.3',\n",
       "       'Lower 95% Confidence Interval.3', 'Upper 95% Confidence Interval.3',\n",
       "       'Log(Odds Ratio).3', 'Standard error of the Log(Odds Ratio).3',\n",
       "       'P-value.3', 'Direction', 'Odds Ratio.4',\n",
       "       'Lower 95% Confidence Interval.4', 'Upper 95% Confidence Interval.4',\n",
       "       'Log(Odds Ratio).4', 'Standard error of the Log(Odds Ratio).4',\n",
       "       'P-value.4', 'Odds Ratio.5', 'Lower 95% Confidence Interval.5',\n",
       "       'Upper 95% Confidence Interval.5', 'Log(Odds Ratio).5',\n",
       "       'Standard error of the Log(Odds Ratio).5', 'P-value.5', 'Direction.1'],\n",
       "      dtype='object')"
      ]
     },
     "execution_count": 8,
     "metadata": {},
     "output_type": "execute_result"
    }
   ],
   "source": [
    "import pandas as pd\n",
    "\n",
    "# Load the Excel file\n",
    "file_path = 'Gwas_2_Supplementary_Table_1.xlsx'\n",
    "df = pd.read_excel(file_path, )\n",
    "df.columns\n",
    "\n",
    "\n"
   ]
  },
  {
   "cell_type": "code",
   "execution_count": 12,
   "metadata": {},
   "outputs": [
    {
     "name": "stdout",
     "output_type": "stream",
     "text": [
      "                                                   chr          snp  \\\n",
      "0                                                    1     rs301799   \n",
      "1                                                    1    rs1002656   \n",
      "2                                                    1    rs1466887   \n",
      "3                                                    1   rs11579246   \n",
      "4                                                    1    rs1890946   \n",
      "..                                                 ...          ...   \n",
      "98                                                  19      rs33431   \n",
      "99                                                  20  rs143186028   \n",
      "100                                                 20   rs12624433   \n",
      "101                                                 22    rs5995992   \n",
      "102  Meta analysis P-values were obtained from an i...          NaN   \n",
      "\n",
      "            pos  left_border  right_border  \n",
      "0     8489302.0    8412989.0     8895448.0  \n",
      "1    37192741.0   37086482.0    37261085.0  \n",
      "2    37709328.0   37663276.0    37765920.0  \n",
      "3    50559162.0   49303796.0    50592091.0  \n",
      "4    52342427.0   52024908.0    52431136.0  \n",
      "..          ...          ...           ...  \n",
      "98   30939989.0   30920679.0    30943455.0  \n",
      "99   39997404.0   39614945.0    40269840.0  \n",
      "100  44680853.0   44570683.0    44749251.0  \n",
      "101  41487218.0   41074168.0    41854446.0  \n",
      "102         NaN          NaN           NaN  \n",
      "\n",
      "[103 rows x 5 columns]\n"
     ]
    }
   ],
   "source": [
    "# Assuming the relevant columns have these names (adjust as necessary)\n",
    "chromosome_col = 'Chromosome'\n",
    "marker_name_col = 'Marker Name'\n",
    "position_col = 'Postion (bp)'\n",
    "region_col = 'Region (bp) of clumped variants (P < 10-4) in linkage disequilibrium (r2 > 0.1) with lead variant'\n",
    "\n",
    "# Filter the necessary columns\n",
    "df_filtered = df[[chromosome_col, marker_name_col, position_col, region_col]].copy()\n",
    "\n",
    "# Split the 'Region (bp)' column into 'left_border' and 'right_border'\n",
    "df_filtered[['left_border', 'right_border']] = df_filtered[region_col].str.split(' - ', expand=True)\n",
    "\n",
    "# Convert the 'left_border' and 'right_border' columns to numeric types\n",
    "df_filtered['left_border'] = pd.to_numeric(df_filtered['left_border'], errors='coerce')\n",
    "df_filtered['right_border'] = pd.to_numeric(df_filtered['right_border'], errors='coerce')\n",
    "\n",
    "# Rename the columns\n",
    "df_filtered = df_filtered.rename(columns={\n",
    "    chromosome_col: 'chr',\n",
    "    marker_name_col: 'snp',\n",
    "    position_col: 'pos'\n",
    "})\n",
    "\n",
    "# Drop the original 'Region (bp)' column\n",
    "df_filtered = df_filtered.drop(columns=[region_col])\n",
    "\n",
    "# Display the resulting dataframe\n",
    "print(df_filtered)\n",
    "\n",
    "df_filtered.to_csv('./their_loci_list.csv')"
   ]
  }
 ],
 "metadata": {
  "kernelspec": {
   "display_name": "newenv",
   "language": "python",
   "name": "python3"
  },
  "language_info": {
   "codemirror_mode": {
    "name": "ipython",
    "version": 3
   },
   "file_extension": ".py",
   "mimetype": "text/x-python",
   "name": "python",
   "nbconvert_exporter": "python",
   "pygments_lexer": "ipython3",
   "version": "3.11.5"
  }
 },
 "nbformat": 4,
 "nbformat_minor": 2
}
