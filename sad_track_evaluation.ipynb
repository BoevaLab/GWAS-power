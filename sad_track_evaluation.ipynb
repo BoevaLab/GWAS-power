{
 "cells": [
  {
   "cell_type": "code",
   "execution_count": 1,
   "metadata": {},
   "outputs": [],
   "source": [
    "import pandas as pd"
   ]
  },
  {
   "cell_type": "code",
   "execution_count": 2,
   "metadata": {},
   "outputs": [],
   "source": [
    "from curate_sad_tracks import generate_sad_tracks"
   ]
  },
  {
   "cell_type": "code",
   "execution_count": 3,
   "metadata": {},
   "outputs": [],
   "source": [
    "phenotype=\"Major Depressive Disorder\"\n",
    "gpt_track_list = generate_sad_tracks(phenotype=phenotype, no_lookup=False)"
   ]
  },
  {
   "cell_type": "code",
   "execution_count": 4,
   "metadata": {},
   "outputs": [],
   "source": [
    "import gwas_snp_selection_fdr_bonf_method"
   ]
  },
  {
   "cell_type": "code",
   "execution_count": 5,
   "metadata": {},
   "outputs": [],
   "source": [
    "# path to 1000genomes:\n",
    "# maybe do a dummy file instead?\n",
    "# path_1KG_directory = \"Z:\\data\\projects\\Lovro_GWAS_Power\\GWAS\\1000genomes_as_csv\"\n",
    "path_1KG_directory = \"1kg_dummy\"\n",
    "# path to coding regions:\n",
    "# path_exon = \"Z:\\data\\projects\\Lovro_GWAS_Power\\GWAS\\genome_assembly\\exon_regions_v2.csv\"\n",
    "path_exon = \"genome_assembly/coding_regions_with_snp_dummy.csv\""
   ]
  },
  {
   "cell_type": "code",
   "execution_count": 13,
   "metadata": {},
   "outputs": [],
   "source": [
    "## Summary Stats Input\n",
    "# does not seem to work:\n",
    "# file_path_summary_stats = \"Z:\\data\\projects\\Lovro_GWAS_Power\\GWAS\\gwas_1_and_2_summary_statistics_data\\GCST90277450.tsv\"\n",
    "file_path_summary_stats = \"sumstats_head_1_2.tsv\"\n",
    "\n",
    "# open the file - must be .tsv.bgz or .tsv format\n",
    "file = gzip.open(file_path_summary_stats, \"rt\") if file_path_summary_stats.endswith(\".tsv.bgz\") else open(file_path_summary_stats, \"r\")\n",
    "\n",
    "# create a dataframe for the summary stats\n",
    "selected_columns = ['chromosome', 'base_pair_location', 'effect_allele', 'other_allele', 'p_value']\n",
    "df_sumstats = pd.concat(pd.read_csv(file, sep=\"\\t\", usecols=selected_columns, chunksize=100000),ignore_index=True)\n",
    "# df_sumstats.rename(columns={'chromosome':'chr', 'base_pair_location':'pos', 'effect_allele':'ref', 'other_allele':'alt', 'p_value':'neglog10_pval_EUR'}, inplace=True)\n",
    "df_sumstats.rename(columns={'chromosome':'chr', 'base_pair_location':'pos', 'effect_allele':'ref', 'other_allele':'alt', 'p_value':'p_value'}, inplace=True)"
   ]
  },
  {
   "cell_type": "code",
   "execution_count": 14,
   "metadata": {},
   "outputs": [
    {
     "data": {
      "text/plain": [
       "['chr', 'pos', 'ref', 'alt', 'p_value']"
      ]
     },
     "execution_count": 14,
     "metadata": {},
     "output_type": "execute_result"
    }
   ],
   "source": [
    "df_sumstats.columns.to_list()"
   ]
  },
  {
   "cell_type": "code",
   "execution_count": 20,
   "metadata": {},
   "outputs": [],
   "source": [
    "df_sumstats['p_value'] = [1e-20 for i in range(len(df_sumstats))]"
   ]
  },
  {
   "cell_type": "code",
   "execution_count": 41,
   "metadata": {},
   "outputs": [],
   "source": [
    "df_1kg = pd.read_csv('sumstats_head_1_2.tsv', sep='\\t', skiprows=[1,50])"
   ]
  },
  {
   "cell_type": "code",
   "execution_count": 32,
   "metadata": {},
   "outputs": [
    {
     "data": {
      "text/plain": [
       "279"
      ]
     },
     "execution_count": 32,
     "metadata": {},
     "output_type": "execute_result"
    }
   ],
   "source": [
    "len(df_1kg)"
   ]
  },
  {
   "cell_type": "code",
   "execution_count": 48,
   "metadata": {},
   "outputs": [
    {
     "data": {
      "text/html": [
       "<div>\n",
       "<style scoped>\n",
       "    .dataframe tbody tr th:only-of-type {\n",
       "        vertical-align: middle;\n",
       "    }\n",
       "\n",
       "    .dataframe tbody tr th {\n",
       "        vertical-align: top;\n",
       "    }\n",
       "\n",
       "    .dataframe thead th {\n",
       "        text-align: right;\n",
       "    }\n",
       "</style>\n",
       "<table border=\"1\" class=\"dataframe\">\n",
       "  <thead>\n",
       "    <tr style=\"text-align: right;\">\n",
       "      <th></th>\n",
       "      <th>chromosome</th>\n",
       "      <th>base_pair_location</th>\n",
       "      <th>effect_allele</th>\n",
       "      <th>other_allele</th>\n",
       "      <th>beta</th>\n",
       "      <th>standard_error</th>\n",
       "      <th>effect_allele_frequency</th>\n",
       "      <th>p_value</th>\n",
       "    </tr>\n",
       "  </thead>\n",
       "  <tbody>\n",
       "    <tr>\n",
       "      <th>322</th>\n",
       "      <td>1</td>\n",
       "      <td>931500</td>\n",
       "      <td>T</td>\n",
       "      <td>C</td>\n",
       "      <td>-0.003865</td>\n",
       "      <td>0.003412</td>\n",
       "      <td>0.884312</td>\n",
       "      <td>0.257285</td>\n",
       "    </tr>\n",
       "    <tr>\n",
       "      <th>323</th>\n",
       "      <td>1</td>\n",
       "      <td>931548</td>\n",
       "      <td>T</td>\n",
       "      <td>G</td>\n",
       "      <td>0.003497</td>\n",
       "      <td>0.002912</td>\n",
       "      <td>0.892707</td>\n",
       "      <td>0.229691</td>\n",
       "    </tr>\n",
       "    <tr>\n",
       "      <th>324</th>\n",
       "      <td>1</td>\n",
       "      <td>932457</td>\n",
       "      <td>A</td>\n",
       "      <td>G</td>\n",
       "      <td>0.003412</td>\n",
       "      <td>0.002921</td>\n",
       "      <td>0.889578</td>\n",
       "      <td>0.242733</td>\n",
       "    </tr>\n",
       "    <tr>\n",
       "      <th>325</th>\n",
       "      <td>1</td>\n",
       "      <td>933790</td>\n",
       "      <td>G</td>\n",
       "      <td>A</td>\n",
       "      <td>0.001937</td>\n",
       "      <td>0.002511</td>\n",
       "      <td>0.878090</td>\n",
       "      <td>0.440292</td>\n",
       "    </tr>\n",
       "    <tr>\n",
       "      <th>326</th>\n",
       "      <td>1</td>\n",
       "      <td>934121</td>\n",
       "      <td>A</td>\n",
       "      <td>G</td>\n",
       "      <td>0.003744</td>\n",
       "      <td>0.002942</td>\n",
       "      <td>0.874698</td>\n",
       "      <td>0.203229</td>\n",
       "    </tr>\n",
       "  </tbody>\n",
       "</table>\n",
       "</div>"
      ],
      "text/plain": [
       "     chromosome  base_pair_location effect_allele other_allele      beta  \\\n",
       "322           1              931500             T            C -0.003865   \n",
       "323           1              931548             T            G  0.003497   \n",
       "324           1              932457             A            G  0.003412   \n",
       "325           1              933790             G            A  0.001937   \n",
       "326           1              934121             A            G  0.003744   \n",
       "\n",
       "     standard_error  effect_allele_frequency   p_value  \n",
       "322        0.003412                 0.884312  0.257285  \n",
       "323        0.002912                 0.892707  0.229691  \n",
       "324        0.002921                 0.889578  0.242733  \n",
       "325        0.002511                 0.878090  0.440292  \n",
       "326        0.002942                 0.874698  0.203229  "
      ]
     },
     "execution_count": 48,
     "metadata": {},
     "output_type": "execute_result"
    }
   ],
   "source": [
    "df_1kg.tail()"
   ]
  },
  {
   "cell_type": "code",
   "execution_count": 43,
   "metadata": {},
   "outputs": [
    {
     "data": {
      "text/plain": [
       "['chromosome',\n",
       " 'base_pair_location',\n",
       " 'effect_allele',\n",
       " 'other_allele',\n",
       " 'beta',\n",
       " 'standard_error',\n",
       " 'effect_allele_frequency',\n",
       " 'p_value']"
      ]
     },
     "execution_count": 43,
     "metadata": {},
     "output_type": "execute_result"
    }
   ],
   "source": [
    "df_1kg.columns.tolist()"
   ]
  },
  {
   "cell_type": "code",
   "execution_count": 46,
   "metadata": {},
   "outputs": [
    {
     "data": {
      "text/html": [
       "<div>\n",
       "<style scoped>\n",
       "    .dataframe tbody tr th:only-of-type {\n",
       "        vertical-align: middle;\n",
       "    }\n",
       "\n",
       "    .dataframe tbody tr th {\n",
       "        vertical-align: top;\n",
       "    }\n",
       "\n",
       "    .dataframe thead th {\n",
       "        text-align: right;\n",
       "    }\n",
       "</style>\n",
       "<table border=\"1\" class=\"dataframe\">\n",
       "  <thead>\n",
       "    <tr style=\"text-align: right;\">\n",
       "      <th></th>\n",
       "      <th>chromosome</th>\n",
       "      <th>base_pair_location</th>\n",
       "      <th>effect_allele</th>\n",
       "      <th>other_allele</th>\n",
       "      <th>beta</th>\n",
       "      <th>standard_error</th>\n",
       "      <th>effect_allele_frequency</th>\n",
       "      <th>p_value</th>\n",
       "    </tr>\n",
       "  </thead>\n",
       "  <tbody>\n",
       "  </tbody>\n",
       "</table>\n",
       "</div>"
      ],
      "text/plain": [
       "Empty DataFrame\n",
       "Columns: [chromosome, base_pair_location, effect_allele, other_allele, beta, standard_error, effect_allele_frequency, p_value]\n",
       "Index: []"
      ]
     },
     "execution_count": 46,
     "metadata": {},
     "output_type": "execute_result"
    }
   ],
   "source": [
    "df_1kg[df_1kg['chromosome']==22]"
   ]
  },
  {
   "cell_type": "code",
   "execution_count": 49,
   "metadata": {},
   "outputs": [],
   "source": [
    "df_sumstats['alt'] = df_1kg['other_allele']\n",
    "df_sumstats['ref'] = df_1kg['effect_allele']\n",
    "df_sumstats['chr'] = df_1kg['chromosome']\n",
    "df_sumstats['pos'] = df_1kg['base_pair_location']\n",
    "\n"
   ]
  },
  {
   "cell_type": "code",
   "execution_count": 51,
   "metadata": {},
   "outputs": [
    {
     "ename": "ZeroDivisionError",
     "evalue": "float division by zero",
     "output_type": "error",
     "traceback": [
      "\u001b[0;31m---------------------------------------------------------------------------\u001b[0m",
      "\u001b[0;31mZeroDivisionError\u001b[0m                         Traceback (most recent call last)",
      "Cell \u001b[0;32mIn[51], line 1\u001b[0m\n\u001b[0;32m----> 1\u001b[0m \u001b[43mgwas_snp_selection_fdr_bonf_method\u001b[49m\u001b[38;5;241;43m.\u001b[39;49m\u001b[43mmain\u001b[49m\u001b[43m(\u001b[49m\u001b[43mcoding_snp_list_path\u001b[49m\u001b[38;5;241;43m=\u001b[39;49m\u001b[43mpath_exon\u001b[49m\u001b[43m,\u001b[49m\u001b[43m \u001b[49m\u001b[43mdirectory_1000_genomes\u001b[49m\u001b[38;5;241;43m=\u001b[39;49m\u001b[43mpath_1KG_directory\u001b[49m\u001b[43m,\u001b[49m\u001b[43m \u001b[49m\u001b[43mtrack_list\u001b[49m\u001b[38;5;241;43m=\u001b[39;49m\u001b[43mgpt_track_list\u001b[49m\u001b[43m,\u001b[49m\u001b[43m \u001b[49m\u001b[43mdf_summary_stats\u001b[49m\u001b[38;5;241;43m=\u001b[39;49m\u001b[43mdf_sumstats\u001b[49m\u001b[43m,\u001b[49m\u001b[43m \u001b[49m\u001b[43mlog_pvals\u001b[49m\u001b[38;5;241;43m=\u001b[39;49m\u001b[38;5;28;43;01mFalse\u001b[39;49;00m\u001b[43m)\u001b[49m\n",
      "File \u001b[0;32m~/GWAS-power/gwas_snp_selection_fdr_bonf_method.py:153\u001b[0m, in \u001b[0;36mmain\u001b[0;34m(df_summary_stats, directory_1000_genomes, track_list, coding_snp_list_path, log_pvals)\u001b[0m\n\u001b[1;32m    150\u001b[0m \u001b[38;5;66;03m# this is the number of snps before filtering with FDR-BH (for calculating the updated pvalue threshold later)\u001b[39;00m\n\u001b[1;32m    151\u001b[0m n_snps_prev \u001b[38;5;241m=\u001b[39m \u001b[38;5;28mlen\u001b[39m(df_summary_stats_result)\n\u001b[0;32m--> 153\u001b[0m fdr_significant_mask, adjusted_p_values, _, _ \u001b[38;5;241m=\u001b[39m \u001b[43mmultipletests\u001b[49m\u001b[43m(\u001b[49m\u001b[43mall_p_values\u001b[49m\u001b[43m,\u001b[49m\u001b[43m \u001b[49m\u001b[43malpha\u001b[49m\u001b[38;5;241;43m=\u001b[39;49m\u001b[43mALPHA\u001b[49m\u001b[43m,\u001b[49m\u001b[43m \u001b[49m\u001b[43mmethod\u001b[49m\u001b[38;5;241;43m=\u001b[39;49m\u001b[38;5;124;43m'\u001b[39;49m\u001b[38;5;124;43mfdr_bh\u001b[39;49m\u001b[38;5;124;43m'\u001b[39;49m\u001b[43m)\u001b[49m\n\u001b[1;32m    155\u001b[0m \u001b[38;5;66;03m# Add adjusted p-values and significance mask to the DataFrame\u001b[39;00m\n\u001b[1;32m    156\u001b[0m df_summary_stats_result[\u001b[38;5;124m'\u001b[39m\u001b[38;5;124madjusted_t_test_p_value\u001b[39m\u001b[38;5;124m'\u001b[39m] \u001b[38;5;241m=\u001b[39m adjusted_p_values\n",
      "File \u001b[0;32m~/anaconda3/envs/bioconda-env/lib/python3.12/site-packages/statsmodels/stats/multitest.py:156\u001b[0m, in \u001b[0;36mmultipletests\u001b[0;34m(pvals, alpha, method, maxiter, is_sorted, returnsorted)\u001b[0m\n\u001b[1;32m    153\u001b[0m     pvals \u001b[38;5;241m=\u001b[39m np\u001b[38;5;241m.\u001b[39mtake(pvals, sortind)\n\u001b[1;32m    155\u001b[0m ntests \u001b[38;5;241m=\u001b[39m \u001b[38;5;28mlen\u001b[39m(pvals)\n\u001b[0;32m--> 156\u001b[0m alphacSidak \u001b[38;5;241m=\u001b[39m \u001b[38;5;241m1\u001b[39m \u001b[38;5;241m-\u001b[39m np\u001b[38;5;241m.\u001b[39mpower((\u001b[38;5;241m1.\u001b[39m \u001b[38;5;241m-\u001b[39m alphaf), \u001b[38;5;241;43m1.\u001b[39;49m\u001b[38;5;241;43m/\u001b[39;49m\u001b[43mntests\u001b[49m)\n\u001b[1;32m    157\u001b[0m alphacBonf \u001b[38;5;241m=\u001b[39m alphaf \u001b[38;5;241m/\u001b[39m \u001b[38;5;28mfloat\u001b[39m(ntests)\n\u001b[1;32m    158\u001b[0m \u001b[38;5;28;01mif\u001b[39;00m method\u001b[38;5;241m.\u001b[39mlower() \u001b[38;5;129;01min\u001b[39;00m [\u001b[38;5;124m'\u001b[39m\u001b[38;5;124mb\u001b[39m\u001b[38;5;124m'\u001b[39m, \u001b[38;5;124m'\u001b[39m\u001b[38;5;124mbonf\u001b[39m\u001b[38;5;124m'\u001b[39m, \u001b[38;5;124m'\u001b[39m\u001b[38;5;124mbonferroni\u001b[39m\u001b[38;5;124m'\u001b[39m]:\n",
      "\u001b[0;31mZeroDivisionError\u001b[0m: float division by zero"
     ]
    }
   ],
   "source": [
    "gwas_snp_selection_fdr_bonf_method.main(coding_snp_list_path=path_exon, directory_1000_genomes=path_1KG_directory, track_list=gpt_track_list, df_summary_stats=df_sumstats, log_pvals=False)"
   ]
  },
  {
   "cell_type": "code",
   "execution_count": null,
   "metadata": {},
   "outputs": [],
   "source": []
  }
 ],
 "metadata": {
  "kernelspec": {
   "display_name": "bioconda-env",
   "language": "python",
   "name": "python3"
  },
  "language_info": {
   "codemirror_mode": {
    "name": "ipython",
    "version": 3
   },
   "file_extension": ".py",
   "mimetype": "text/x-python",
   "name": "python",
   "nbconvert_exporter": "python",
   "pygments_lexer": "ipython3",
   "version": "3.12.7"
  }
 },
 "nbformat": 4,
 "nbformat_minor": 2
}
