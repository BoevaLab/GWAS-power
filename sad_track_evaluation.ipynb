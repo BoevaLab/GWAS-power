{
 "cells": [
  {
   "cell_type": "code",
   "execution_count": 4,
   "metadata": {},
   "outputs": [],
   "source": [
    "from curate_sad_tracks import generate_sad_tracks"
   ]
  },
  {
   "cell_type": "code",
   "execution_count": null,
   "metadata": {},
   "outputs": [
    {
     "name": "stdout",
     "output_type": "stream",
     "text": [
      "[1, 9, 76, 78, 80, 355, 418, 418, 404, 355]\n"
     ]
    }
   ],
   "source": [
    "phenotype=\"Major Depressive Disorder\"\n",
    "gpt_track_list = generate_sad_tracks(phenotype=phenotype, no_lookup=False)"
   ]
  },
  {
   "cell_type": "code",
   "execution_count": 8,
   "metadata": {},
   "outputs": [],
   "source": [
    "import gwas_snp_selection_fdr_bonf_method"
   ]
  },
  {
   "cell_type": "code",
   "execution_count": null,
   "metadata": {},
   "outputs": [],
   "source": [
    "# path to 1000genomes:\n",
    "path_1KG_directory = \"Z:\\data\\projects\\Lovro_GWAS_Power\\GWAS\\1000genomes_as_csv\"\n",
    "# "
   ]
  },
  {
   "cell_type": "code",
   "execution_count": null,
   "metadata": {},
   "outputs": [],
   "source": [
    "gwas_snp_selection_fdr_bonf_method.main()"
   ]
  }
 ],
 "metadata": {
  "kernelspec": {
   "display_name": "bioconda-env",
   "language": "python",
   "name": "python3"
  },
  "language_info": {
   "codemirror_mode": {
    "name": "ipython",
    "version": 3
   },
   "file_extension": ".py",
   "mimetype": "text/x-python",
   "name": "python",
   "nbconvert_exporter": "python",
   "pygments_lexer": "ipython3",
   "version": "3.12.7"
  }
 },
 "nbformat": 4,
 "nbformat_minor": 2
}
