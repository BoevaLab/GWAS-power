{
 "cells": [
  {
   "cell_type": "code",
   "execution_count": 2,
   "metadata": {},
   "outputs": [],
   "source": [
    "from curate_sad_tracks import generate_sad_tracks"
   ]
  },
  {
   "cell_type": "code",
   "execution_count": 4,
   "metadata": {},
   "outputs": [],
   "source": [
    "phenotype=\"Major Depressive Disorder\"\n",
    "gpt_track_list = generate_sad_tracks(phenotype=phenotype, no_lookup=False)"
   ]
  },
  {
   "cell_type": "code",
   "execution_count": 5,
   "metadata": {},
   "outputs": [],
   "source": [
    "import gwas_snp_selection_fdr_bonf_method"
   ]
  },
  {
   "cell_type": "code",
   "execution_count": 6,
   "metadata": {},
   "outputs": [],
   "source": [
    "# path to 1000genomes:\n",
    "# maybe do a dummy file instead?\n",
    "path_1KG_directory = \"Z:\\data\\projects\\Lovro_GWAS_Power\\GWAS\\1000genomes_as_csv\"\n",
    "# path to coding regions:\n",
    "path_exon = \"Z:\\data\\projects\\Lovro_GWAS_Power\\GWAS\\genome_assembly\\exon_regions_v2.csv\""
   ]
  },
  {
   "cell_type": "code",
   "execution_count": 7,
   "metadata": {},
   "outputs": [
    {
     "ename": "FileNotFoundError",
     "evalue": "[Errno 2] No such file or directory: 'Z:\\\\data\\\\projects\\\\Lovro_GWAS_Power\\\\GWAS\\\\gwas_1_and_2_summary_statistics_data\\\\GCST90277450.tsv'",
     "output_type": "error",
     "traceback": [
      "\u001b[0;31m---------------------------------------------------------------------------\u001b[0m",
      "\u001b[0;31mFileNotFoundError\u001b[0m                         Traceback (most recent call last)",
      "Cell \u001b[0;32mIn[7], line 5\u001b[0m\n\u001b[1;32m      2\u001b[0m file_path_summary_stats \u001b[38;5;241m=\u001b[39m \u001b[38;5;124m\"\u001b[39m\u001b[38;5;124mZ:\u001b[39m\u001b[38;5;124m\\\u001b[39m\u001b[38;5;124mdata\u001b[39m\u001b[38;5;124m\\\u001b[39m\u001b[38;5;124mprojects\u001b[39m\u001b[38;5;124m\\\u001b[39m\u001b[38;5;124mLovro_GWAS_Power\u001b[39m\u001b[38;5;124m\\\u001b[39m\u001b[38;5;124mGWAS\u001b[39m\u001b[38;5;124m\\\u001b[39m\u001b[38;5;124mgwas_1_and_2_summary_statistics_data\u001b[39m\u001b[38;5;124m\\\u001b[39m\u001b[38;5;124mGCST90277450.tsv\u001b[39m\u001b[38;5;124m\"\u001b[39m\n\u001b[1;32m      4\u001b[0m \u001b[38;5;66;03m# open the file - must be .tsv.bgz or .tsv format\u001b[39;00m\n\u001b[0;32m----> 5\u001b[0m file \u001b[38;5;241m=\u001b[39m gzip\u001b[38;5;241m.\u001b[39mopen(file_path_summary_stats, \u001b[38;5;124m\"\u001b[39m\u001b[38;5;124mrt\u001b[39m\u001b[38;5;124m\"\u001b[39m) \u001b[38;5;28;01mif\u001b[39;00m file_path_summary_stats\u001b[38;5;241m.\u001b[39mendswith(\u001b[38;5;124m\"\u001b[39m\u001b[38;5;124m.tsv.bgz\u001b[39m\u001b[38;5;124m\"\u001b[39m) \u001b[38;5;28;01melse\u001b[39;00m \u001b[38;5;28mopen\u001b[39m(file_path_summary_stats, \u001b[38;5;124m\"\u001b[39m\u001b[38;5;124mr\u001b[39m\u001b[38;5;124m\"\u001b[39m)\n\u001b[1;32m      7\u001b[0m \u001b[38;5;66;03m# create a dataframe for the summary stats\u001b[39;00m\n\u001b[1;32m      8\u001b[0m df_summary_stats \u001b[38;5;241m=\u001b[39m pd\u001b[38;5;241m.\u001b[39mconcat(pd\u001b[38;5;241m.\u001b[39mread_csv(file, sep\u001b[38;5;241m=\u001b[39m\u001b[38;5;124m\"\u001b[39m\u001b[38;5;130;01m\\t\u001b[39;00m\u001b[38;5;124m\"\u001b[39m, usecols\u001b[38;5;241m=\u001b[39mselected_columns, chunksize\u001b[38;5;241m=\u001b[39m\u001b[38;5;241m100000\u001b[39m),ignore_index\u001b[38;5;241m=\u001b[39m\u001b[38;5;28;01mTrue\u001b[39;00m)\n",
      "File \u001b[0;32m/local/home/hkonstantin/miniconda3/envs/gwas-power/lib/python3.12/site-packages/IPython/core/interactiveshell.py:324\u001b[0m, in \u001b[0;36m_modified_open\u001b[0;34m(file, *args, **kwargs)\u001b[0m\n\u001b[1;32m    317\u001b[0m \u001b[38;5;28;01mif\u001b[39;00m file \u001b[38;5;129;01min\u001b[39;00m {\u001b[38;5;241m0\u001b[39m, \u001b[38;5;241m1\u001b[39m, \u001b[38;5;241m2\u001b[39m}:\n\u001b[1;32m    318\u001b[0m     \u001b[38;5;28;01mraise\u001b[39;00m \u001b[38;5;167;01mValueError\u001b[39;00m(\n\u001b[1;32m    319\u001b[0m         \u001b[38;5;124mf\u001b[39m\u001b[38;5;124m\"\u001b[39m\u001b[38;5;124mIPython won\u001b[39m\u001b[38;5;124m'\u001b[39m\u001b[38;5;124mt let you open fd=\u001b[39m\u001b[38;5;132;01m{\u001b[39;00mfile\u001b[38;5;132;01m}\u001b[39;00m\u001b[38;5;124m by default \u001b[39m\u001b[38;5;124m\"\u001b[39m\n\u001b[1;32m    320\u001b[0m         \u001b[38;5;124m\"\u001b[39m\u001b[38;5;124mas it is likely to crash IPython. If you know what you are doing, \u001b[39m\u001b[38;5;124m\"\u001b[39m\n\u001b[1;32m    321\u001b[0m         \u001b[38;5;124m\"\u001b[39m\u001b[38;5;124myou can use builtins\u001b[39m\u001b[38;5;124m'\u001b[39m\u001b[38;5;124m open.\u001b[39m\u001b[38;5;124m\"\u001b[39m\n\u001b[1;32m    322\u001b[0m     )\n\u001b[0;32m--> 324\u001b[0m \u001b[38;5;28;01mreturn\u001b[39;00m io_open(file, \u001b[38;5;241m*\u001b[39margs, \u001b[38;5;241m*\u001b[39m\u001b[38;5;241m*\u001b[39mkwargs)\n",
      "\u001b[0;31mFileNotFoundError\u001b[0m: [Errno 2] No such file or directory: 'Z:\\\\data\\\\projects\\\\Lovro_GWAS_Power\\\\GWAS\\\\gwas_1_and_2_summary_statistics_data\\\\GCST90277450.tsv'"
     ]
    }
   ],
   "source": [
    "## Summary Stats Input\n",
    "file_path_summary_stats = \"Z:\\data\\projects\\Lovro_GWAS_Power\\GWAS\\gwas_1_and_2_summary_statistics_data\\GCST90277450.tsv\"\n",
    "\n",
    "# open the file - must be .tsv.bgz or .tsv format\n",
    "file = gzip.open(file_path_summary_stats, \"rt\") if file_path_summary_stats.endswith(\".tsv.bgz\") else open(file_path_summary_stats, \"r\")\n",
    "\n",
    "# create a dataframe for the summary stats\n",
    "df_summary_stats = pd.concat(pd.read_csv(file, sep=\"\\t\", usecols=selected_columns, chunksize=100000),ignore_index=True)"
   ]
  },
  {
   "cell_type": "code",
   "execution_count": null,
   "metadata": {},
   "outputs": [],
   "source": [
    "gwas_snp_selection_fdr_bonf_method.main()"
   ]
  }
 ],
 "metadata": {
  "kernelspec": {
   "display_name": "gwas-power",
   "language": "python",
   "name": "python3"
  },
  "language_info": {
   "codemirror_mode": {
    "name": "ipython",
    "version": 3
   },
   "file_extension": ".py",
   "mimetype": "text/x-python",
   "name": "python",
   "nbconvert_exporter": "python",
   "pygments_lexer": "ipython3",
   "version": "3.12.9"
  }
 },
 "nbformat": 4,
 "nbformat_minor": 2
}
